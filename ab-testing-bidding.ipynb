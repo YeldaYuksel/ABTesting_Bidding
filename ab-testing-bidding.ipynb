{
 "cells": [
  {
   "cell_type": "code",
   "execution_count": 1,
   "id": "bcf9bc6c",
   "metadata": {
    "execution": {
     "iopub.execute_input": "2024-09-18T18:21:44.951372Z",
     "iopub.status.busy": "2024-09-18T18:21:44.950830Z",
     "iopub.status.idle": "2024-09-18T18:22:03.852122Z",
     "shell.execute_reply": "2024-09-18T18:22:03.850959Z"
    },
    "papermill": {
     "duration": 18.911901,
     "end_time": "2024-09-18T18:22:03.855048",
     "exception": false,
     "start_time": "2024-09-18T18:21:44.943147",
     "status": "completed"
    },
    "tags": []
   },
   "outputs": [
    {
     "name": "stdout",
     "output_type": "stream",
     "text": [
      "Requirement already satisfied: statsmodels in /opt/conda/lib/python3.10/site-packages (0.14.2)\r\n",
      "Requirement already satisfied: numpy>=1.22.3 in /opt/conda/lib/python3.10/site-packages (from statsmodels) (1.26.4)\r\n",
      "Requirement already satisfied: scipy!=1.9.2,>=1.8 in /opt/conda/lib/python3.10/site-packages (from statsmodels) (1.14.0)\r\n",
      "Requirement already satisfied: pandas!=2.1.0,>=1.4 in /opt/conda/lib/python3.10/site-packages (from statsmodels) (2.2.2)\r\n",
      "Requirement already satisfied: patsy>=0.5.6 in /opt/conda/lib/python3.10/site-packages (from statsmodels) (0.5.6)\r\n",
      "Requirement already satisfied: packaging>=21.3 in /opt/conda/lib/python3.10/site-packages (from statsmodels) (21.3)\r\n",
      "Requirement already satisfied: pyparsing!=3.0.5,>=2.0.2 in /opt/conda/lib/python3.10/site-packages (from packaging>=21.3->statsmodels) (3.1.2)\r\n",
      "Requirement already satisfied: python-dateutil>=2.8.2 in /opt/conda/lib/python3.10/site-packages (from pandas!=2.1.0,>=1.4->statsmodels) (2.9.0.post0)\r\n",
      "Requirement already satisfied: pytz>=2020.1 in /opt/conda/lib/python3.10/site-packages (from pandas!=2.1.0,>=1.4->statsmodels) (2024.1)\r\n",
      "Requirement already satisfied: tzdata>=2022.7 in /opt/conda/lib/python3.10/site-packages (from pandas!=2.1.0,>=1.4->statsmodels) (2024.1)\r\n",
      "Requirement already satisfied: six in /opt/conda/lib/python3.10/site-packages (from patsy>=0.5.6->statsmodels) (1.16.0)\r\n"
     ]
    }
   ],
   "source": [
    "import numpy as np\n",
    "import pandas as pd\n",
    "import matplotlib.pyplot as plt\n",
    "import seaborn as sns\n",
    "!pip install statsmodels\n",
    "import statsmodels.stats.api as sms\n",
    "from scipy.stats import ttest_1samp, shapiro, levene, ttest_ind, mannwhitneyu, \\\n",
    "    pearsonr, spearmanr, kendalltau, f_oneway, kruskal\n",
    "from statsmodels.stats.proportion import proportions_ztest\n",
    "\n",
    "pd.set_option('display.max_columns', None)\n",
    "pd.set_option('display.max_rows', 10)\n",
    "pd.set_option('display.expand_frame_repr', False)\n",
    "pd.set_option('display.float_format', lambda x: \"%.5f\" % x)"
   ]
  },
  {
   "cell_type": "markdown",
   "id": "4fbdc399",
   "metadata": {
    "papermill": {
     "duration": 0.005246,
     "end_time": "2024-09-18T18:22:03.865708",
     "exception": false,
     "start_time": "2024-09-18T18:22:03.860462",
     "status": "completed"
    },
    "tags": []
   },
   "source": [
    "**Data Understanding & Preparation**"
   ]
  },
  {
   "cell_type": "code",
   "execution_count": 2,
   "id": "8540512a",
   "metadata": {
    "execution": {
     "iopub.execute_input": "2024-09-18T18:22:03.878348Z",
     "iopub.status.busy": "2024-09-18T18:22:03.877566Z",
     "iopub.status.idle": "2024-09-18T18:22:04.326457Z",
     "shell.execute_reply": "2024-09-18T18:22:04.325191Z"
    },
    "papermill": {
     "duration": 0.458618,
     "end_time": "2024-09-18T18:22:04.329455",
     "exception": false,
     "start_time": "2024-09-18T18:22:03.870837",
     "status": "completed"
    },
    "tags": []
   },
   "outputs": [
    {
     "name": "stdout",
     "output_type": "stream",
     "text": [
      "##################### Shape #####################\n",
      "(40, 4)\n",
      "##################### Types #####################\n",
      "Impression    float64\n",
      "Click         float64\n",
      "Purchase      float64\n",
      "Earning       float64\n",
      "dtype: object\n",
      "##################### Head #####################\n",
      "    Impression      Click  Purchase    Earning\n",
      "0  82529.45927 6090.07732 665.21125 2311.27714\n",
      "1  98050.45193 3382.86179 315.08489 1742.80686\n",
      "2  82696.02355 4167.96575 458.08374 1797.82745\n",
      "3 109914.40040 4910.88224 487.09077 1696.22918\n",
      "4 108457.76263 5987.65581 441.03405 1543.72018\n",
      "##################### Tail #####################\n",
      "     Impression      Click  Purchase    Earning\n",
      "35 132064.21900 3747.15754 551.07241 2256.97559\n",
      "36  86409.94180 4608.25621 345.04603 1781.35769\n",
      "37 123678.93423 3649.07379 476.16813 2187.72122\n",
      "38 101997.49410 4736.35337 474.61354 2254.56383\n",
      "39 121085.88122 4285.17861 590.40602 1289.30895\n",
      "##################### NA #####################\n",
      "Impression    0\n",
      "Click         0\n",
      "Purchase      0\n",
      "Earning       0\n",
      "dtype: int64\n",
      "##################### Quantiles #####################\n",
      "               0.00000     0.05000     0.50000      0.95000      0.99000      1.00000\n",
      "Impression 45475.94296 79412.01792 99790.70108 132950.53245 143105.79110 147539.33633\n",
      "Click       2189.75316  3367.48426  5001.22060   7374.36120   7761.79511   7959.12507\n",
      "Purchase     267.02894   328.66242   531.20631    748.27076    790.18779    801.79502\n",
      "Earning     1253.98952  1329.57708  1975.16052   2318.52850   2481.30874   2497.29522\n",
      "##################### Quantiles T #####################\n",
      "              count         mean         std         min         25%         50%          75%          max\n",
      "Impression 40.00000 101711.44907 20302.15786 45475.94296 85726.69035 99790.70108 115212.81654 147539.33633\n",
      "Click      40.00000   5100.65737  1329.98550  2189.75316  4124.30413  5001.22060   5923.80360   7959.12507\n",
      "Purchase   40.00000    550.89406   134.10820   267.02894   470.09553   531.20631    637.95709    801.79502\n",
      "Earning    40.00000   1908.56830   302.91778  1253.98952  1685.84720  1975.16052   2119.80278   2497.29522\n",
      "##################### Shape #####################\n",
      "(40, 4)\n",
      "##################### Types #####################\n",
      "Impression    float64\n",
      "Click         float64\n",
      "Purchase      float64\n",
      "Earning       float64\n",
      "dtype: object\n",
      "##################### Head #####################\n",
      "    Impression      Click  Purchase    Earning\n",
      "0 120103.50380 3216.54796 702.16035 1939.61124\n",
      "1 134775.94336 3635.08242 834.05429 2929.40582\n",
      "2 107806.62079 3057.14356 422.93426 2526.24488\n",
      "3 116445.27553 4650.47391 429.03353 2281.42857\n",
      "4 145082.51684 5201.38772 749.86044 2781.69752\n",
      "##################### Tail #####################\n",
      "     Impression      Click  Purchase    Earning\n",
      "35  79234.91193 6002.21358 382.04712 2277.86398\n",
      "36 130702.23941 3626.32007 449.82459 2530.84133\n",
      "37 116481.87337 4702.78247 472.45373 2597.91763\n",
      "38  79033.83492 4495.42818 425.35910 2595.85788\n",
      "39 102257.45409 4800.06832 521.31073 2967.51839\n",
      "##################### NA #####################\n",
      "Impression    0\n",
      "Click         0\n",
      "Purchase      0\n",
      "Earning       0\n",
      "dtype: int64\n",
      "##################### Quantiles #####################\n",
      "               0.00000     0.05000      0.50000      0.95000      0.99000      1.00000\n",
      "Impression 79033.83492 83150.50378 119291.30077 153178.69106 158245.26380 158605.92048\n",
      "Click       1836.62986  2600.36102   3931.35980   5271.18691   6012.87730   6019.69508\n",
      "Purchase     311.62952   356.69540    551.35573    854.20895    876.57610    889.91046\n",
      "Earning     1939.61124  2080.97621   2544.66611   2931.31145   3091.94089   3171.48971\n",
      "##################### Quantiles T #####################\n",
      "              count         mean         std         min          25%          50%          75%          max\n",
      "Impression 40.00000 120512.41176 18807.44871 79033.83492 112691.97077 119291.30077 132050.57893 158605.92048\n",
      "Click      40.00000   3967.54976   923.09507  1836.62986   3376.81902   3931.35980   4660.49791   6019.69508\n",
      "Purchase   40.00000    582.10610   161.15251   311.62952    444.62683    551.35573    699.86236    889.91046\n",
      "Earning    40.00000   2514.89073   282.73085  1939.61124   2280.53743   2544.66611   2761.54540   3171.48971\n"
     ]
    }
   ],
   "source": [
    "df = pd.read_excel(\"/kaggle/input/abtesting/ab_testing.xlsx\", sheet_name=\"Control Group\")\n",
    "df_control = df.copy()\n",
    "\n",
    "df_ = pd.read_excel(\"/kaggle/input/abtesting/ab_testing.xlsx\", sheet_name=\"Test Group\")\n",
    "df_test = df_.copy()\n",
    "\n",
    "# Adım 2: Kontrol ve test grubu verilerini analiz ediniz.\n",
    "\n",
    "def check_df(dataframe, head=5):\n",
    "    print(\"##################### Shape #####################\")\n",
    "    print(dataframe.shape)\n",
    "    print(\"##################### Types #####################\")\n",
    "    print(dataframe.dtypes)\n",
    "    print(\"##################### Head #####################\")\n",
    "    print(dataframe.head())\n",
    "    print(\"##################### Tail #####################\")\n",
    "    print(dataframe.tail())\n",
    "    print(\"##################### NA #####################\")\n",
    "    print(dataframe.isnull().sum())\n",
    "    print(\"##################### Quantiles #####################\")\n",
    "    print(dataframe.quantile([0, 0.05, 0.50, 0.95, 0.99, 1]).T)\n",
    "    print(\"##################### Quantiles T #####################\")\n",
    "    print(dataframe.describe().T)\n",
    "\n",
    "check_df(df_control)\n",
    "check_df(df_test)"
   ]
  },
  {
   "cell_type": "markdown",
   "id": "bcf9892c",
   "metadata": {
    "papermill": {
     "duration": 0.004878,
     "end_time": "2024-09-18T18:22:04.339870",
     "exception": false,
     "start_time": "2024-09-18T18:22:04.334992",
     "status": "completed"
    },
    "tags": []
   },
   "source": [
    "**Correlation**"
   ]
  },
  {
   "cell_type": "code",
   "execution_count": 3,
   "id": "a02a22f1",
   "metadata": {
    "execution": {
     "iopub.execute_input": "2024-09-18T18:22:04.352927Z",
     "iopub.status.busy": "2024-09-18T18:22:04.352298Z",
     "iopub.status.idle": "2024-09-18T18:22:04.696098Z",
     "shell.execute_reply": "2024-09-18T18:22:04.695050Z"
    },
    "papermill": {
     "duration": 0.353598,
     "end_time": "2024-09-18T18:22:04.698607",
     "exception": false,
     "start_time": "2024-09-18T18:22:04.345009",
     "status": "completed"
    },
    "tags": []
   },
   "outputs": [
    {
     "data": {
      "text/plain": [
       "<Axes: xlabel='Click', ylabel='Purchase'>"
      ]
     },
     "execution_count": 3,
     "metadata": {},
     "output_type": "execute_result"
    },
    {
     "data": {
      "image/png": "[encoded data removed]",
      "text/plain": [
       "<Figure size 640x480 with 1 Axes>"
      ]
     },
     "metadata": {},
     "output_type": "display_data"
    }
   ],
   "source": [
    "df_control[\"Click\"].corr(df_control[\"Purchase\"]) #0.057\n",
    "df_control.plot.scatter(\"Click\", \"Purchase\")"
   ]
  },
  {
   "cell_type": "markdown",
   "id": "09d56d0b",
   "metadata": {
    "papermill": {
     "duration": 0.005565,
     "end_time": "2024-09-18T18:22:04.710227",
     "exception": false,
     "start_time": "2024-09-18T18:22:04.704662",
     "status": "completed"
    },
    "tags": []
   },
   "source": [
    "**Concatenate DataFrames**"
   ]
  },
  {
   "cell_type": "code",
   "execution_count": 4,
   "id": "9e2ee42c",
   "metadata": {
    "execution": {
     "iopub.execute_input": "2024-09-18T18:22:04.723400Z",
     "iopub.status.busy": "2024-09-18T18:22:04.722973Z",
     "iopub.status.idle": "2024-09-18T18:22:04.740957Z",
     "shell.execute_reply": "2024-09-18T18:22:04.739869Z"
    },
    "papermill": {
     "duration": 0.027308,
     "end_time": "2024-09-18T18:22:04.743241",
     "exception": false,
     "start_time": "2024-09-18T18:22:04.715933",
     "status": "completed"
    },
    "tags": []
   },
   "outputs": [
    {
     "data": {
      "text/html": [
       "<div>\n",
       "<style scoped>\n",
       "    .dataframe tbody tr th:only-of-type {\n",
       "        vertical-align: middle;\n",
       "    }\n",
       "\n",
       "    .dataframe tbody tr th {\n",
       "        vertical-align: top;\n",
       "    }\n",
       "\n",
       "    .dataframe thead th {\n",
       "        text-align: right;\n",
       "    }\n",
       "</style>\n",
       "<table border=\"1\" class=\"dataframe\">\n",
       "  <thead>\n",
       "    <tr style=\"text-align: right;\">\n",
       "      <th></th>\n",
       "      <th>Impression</th>\n",
       "      <th>Click</th>\n",
       "      <th>Purchase</th>\n",
       "      <th>Earning</th>\n",
       "      <th>Group</th>\n",
       "    </tr>\n",
       "  </thead>\n",
       "  <tbody>\n",
       "    <tr>\n",
       "      <th>0</th>\n",
       "      <td>82529.45927</td>\n",
       "      <td>6090.07732</td>\n",
       "      <td>665.21125</td>\n",
       "      <td>2311.27714</td>\n",
       "      <td>Control</td>\n",
       "    </tr>\n",
       "    <tr>\n",
       "      <th>1</th>\n",
       "      <td>98050.45193</td>\n",
       "      <td>3382.86179</td>\n",
       "      <td>315.08489</td>\n",
       "      <td>1742.80686</td>\n",
       "      <td>Control</td>\n",
       "    </tr>\n",
       "    <tr>\n",
       "      <th>2</th>\n",
       "      <td>82696.02355</td>\n",
       "      <td>4167.96575</td>\n",
       "      <td>458.08374</td>\n",
       "      <td>1797.82745</td>\n",
       "      <td>Control</td>\n",
       "    </tr>\n",
       "    <tr>\n",
       "      <th>3</th>\n",
       "      <td>109914.40040</td>\n",
       "      <td>4910.88224</td>\n",
       "      <td>487.09077</td>\n",
       "      <td>1696.22918</td>\n",
       "      <td>Control</td>\n",
       "    </tr>\n",
       "    <tr>\n",
       "      <th>4</th>\n",
       "      <td>108457.76263</td>\n",
       "      <td>5987.65581</td>\n",
       "      <td>441.03405</td>\n",
       "      <td>1543.72018</td>\n",
       "      <td>Control</td>\n",
       "    </tr>\n",
       "  </tbody>\n",
       "</table>\n",
       "</div>"
      ],
      "text/plain": [
       "    Impression      Click  Purchase    Earning    Group\n",
       "0  82529.45927 6090.07732 665.21125 2311.27714  Control\n",
       "1  98050.45193 3382.86179 315.08489 1742.80686  Control\n",
       "2  82696.02355 4167.96575 458.08374 1797.82745  Control\n",
       "3 109914.40040 4910.88224 487.09077 1696.22918  Control\n",
       "4 108457.76263 5987.65581 441.03405 1543.72018  Control"
      ]
     },
     "execution_count": 4,
     "metadata": {},
     "output_type": "execute_result"
    }
   ],
   "source": [
    "df_control['Group'] = 'Control'\n",
    "df_test['Group'] = 'Test'\n",
    "df = pd.concat([df_control, df_test], axis=0, ignore_index=False)\n",
    "df.head()"
   ]
  },
  {
   "cell_type": "markdown",
   "id": "c62fc61f",
   "metadata": {
    "papermill": {
     "duration": 0.005704,
     "end_time": "2024-09-18T18:22:04.755049",
     "exception": false,
     "start_time": "2024-09-18T18:22:04.749345",
     "status": "completed"
    },
    "tags": []
   },
   "source": [
    "**A/B Test Hypothesis**"
   ]
  },
  {
   "cell_type": "code",
   "execution_count": 5,
   "id": "5c63d64c",
   "metadata": {
    "execution": {
     "iopub.execute_input": "2024-09-18T18:22:04.768730Z",
     "iopub.status.busy": "2024-09-18T18:22:04.768283Z",
     "iopub.status.idle": "2024-09-18T18:22:04.784959Z",
     "shell.execute_reply": "2024-09-18T18:22:04.783639Z"
    },
    "papermill": {
     "duration": 0.026461,
     "end_time": "2024-09-18T18:22:04.787401",
     "exception": false,
     "start_time": "2024-09-18T18:22:04.760940",
     "status": "completed"
    },
    "tags": []
   },
   "outputs": [
    {
     "name": "stdout",
     "output_type": "stream",
     "text": [
      "         Purchase\n",
      "Group            \n",
      "Control 550.89406\n",
      "Test    582.10610\n"
     ]
    }
   ],
   "source": [
    "## Is There a Statistically Significant Difference Between the \n",
    "## Purchase Averages of the Control and Test Groups?\n",
    "\n",
    "#H0: M1 = M2 - There is no difference between the purchase averages of the two groups.\n",
    "#H1: M1 != M2 - There is a difference.\n",
    "\n",
    "\n",
    "#Step 2: Analysis of the purchase averages for the control and test groups.\n",
    "\n",
    "print(df.groupby(\"Group\").agg({\"Purchase\": \"mean\"}))"
   ]
  },
  {
   "cell_type": "code",
   "execution_count": 6,
   "id": "c46c79d6",
   "metadata": {
    "execution": {
     "iopub.execute_input": "2024-09-18T18:22:04.802029Z",
     "iopub.status.busy": "2024-09-18T18:22:04.801254Z",
     "iopub.status.idle": "2024-09-18T18:22:04.818845Z",
     "shell.execute_reply": "2024-09-18T18:22:04.817574Z"
    },
    "papermill": {
     "duration": 0.027372,
     "end_time": "2024-09-18T18:22:04.821259",
     "exception": false,
     "start_time": "2024-09-18T18:22:04.793887",
     "status": "completed"
    },
    "tags": []
   },
   "outputs": [
    {
     "name": "stdout",
     "output_type": "stream",
     "text": [
      "Test stat = 0.9773, p-value = 0.5891\n",
      "Test stat = 0.9589, p-value = 0.1541\n",
      "Test stat = 2.6393, p-value = 0.1083\n"
     ]
    }
   ],
   "source": [
    "# Normality Test\n",
    "\n",
    "# H0: M1 = M2 (data follows a normal distribution)\n",
    "# H1: M1 != M2 (data do not follow a normal distribution)\n",
    "\n",
    "test_stat, pvalue = shapiro(df.loc[df[\"Group\"] == \"Control\", \"Purchase\"])\n",
    "print('Test stat = %.4f, p-value = %.4f' % (test_stat, pvalue))\n",
    "# p-value = 0.58 - H0 can not rejected, data follows a normal distribution\n",
    "# Control group data follows a normal distribution\n",
    "\n",
    "test_stat, pvalue = shapiro(df.loc[df[\"Group\"] == \"Test\", \"Purchase\"])\n",
    "print('Test stat = %.4f, p-value = %.4f' % (test_stat, pvalue))\n",
    "# p-value = 0.15 - H0 can not rejected, data follows a normal distribution\n",
    "# Test group data follows a normal distribution\n",
    "\n",
    "\n",
    "# Variance Homogeneity\n",
    "# H0: M1 = M2 (Variances are homogenous)\n",
    "# H1: (not homogenous)\n",
    "test_stat, pvalue = levene(df.loc[df[\"Group\"] == \"Control\", \"Purchase\"], df.loc[df[\"Group\"] == \"Test\", \"Purchase\"])\n",
    "print('Test stat = %.4f, p-value = %.4f' % (test_stat, pvalue))\n",
    "# p-value = 0.1083 - H0 can not rejected, Variances are homogenous\n",
    "# The values of the Control and Test groups satisfy the homogeneity of variance assumption."
   ]
  },
  {
   "cell_type": "markdown",
   "id": "d96e595d",
   "metadata": {
    "papermill": {
     "duration": 0.005872,
     "end_time": "2024-09-18T18:22:04.833430",
     "exception": false,
     "start_time": "2024-09-18T18:22:04.827558",
     "status": "completed"
    },
    "tags": []
   },
   "source": [
    "**A/B Testing - Two Sample Unpaired T Test**"
   ]
  },
  {
   "cell_type": "code",
   "execution_count": 7,
   "id": "b49389f9",
   "metadata": {
    "execution": {
     "iopub.execute_input": "2024-09-18T18:22:04.847915Z",
     "iopub.status.busy": "2024-09-18T18:22:04.847170Z",
     "iopub.status.idle": "2024-09-18T18:22:04.858741Z",
     "shell.execute_reply": "2024-09-18T18:22:04.857563Z"
    },
    "papermill": {
     "duration": 0.021879,
     "end_time": "2024-09-18T18:22:04.861410",
     "exception": false,
     "start_time": "2024-09-18T18:22:04.839531",
     "status": "completed"
    },
    "tags": []
   },
   "outputs": [
    {
     "name": "stdout",
     "output_type": "stream",
     "text": [
      "Test Stat = -0.9416, p-value = 0.3493\n"
     ]
    }
   ],
   "source": [
    "test_stat, pvalue = ttest_ind(df.loc[df[\"Group\"] == \"Control\", \"Purchase\"],\n",
    "                              df.loc[df[\"Group\"] == \"Test\", \"Purchase\"],\n",
    "                              equal_var=True)\n",
    "print('Test Stat = %.4f, p-value = %.4f' % (test_stat, pvalue))\n",
    "\n",
    "# # HO can not rejected, There is no statistically significant difference between the purchase means of the control and test groups."
   ]
  },
  {
   "cell_type": "markdown",
   "id": "5db0efe8",
   "metadata": {
    "papermill": {
     "duration": 0.005926,
     "end_time": "2024-09-18T18:22:04.873523",
     "exception": false,
     "start_time": "2024-09-18T18:22:04.867597",
     "status": "completed"
    },
    "tags": []
   },
   "source": [
    "**Provide Recommendations Based on the Test Results:**\n",
    "\n",
    "\n",
    "*Since the test duration is only one month, it could be extended to collect more data and perform additional analyses.*\n",
    "\n",
    "*The sample size of 40 observations seems low; therefore, increasing the number of observations could provide more robust results.*"
   ]
  }
 ],
 "metadata": {
  "kaggle": {
   "accelerator": "none",
   "dataSources": [
    {
     "datasetId": 5727376,
     "sourceId": 9427982,
     "sourceType": "datasetVersion"
    }
   ],
   "dockerImageVersionId": 30761,
   "isGpuEnabled": false,
   "isInternetEnabled": true,
   "language": "python",
   "sourceType": "notebook"
  },
  "kernelspec": {
   "display_name": "Python 3",
   "language": "python",
   "name": "python3"
  },
  "language_info": {
   "codemirror_mode": {
    "name": "ipython",
    "version": 3
   },
   "file_extension": ".py",
   "mimetype": "text/x-python",
   "name": "python",
   "nbconvert_exporter": "python",
   "pygments_lexer": "ipython3",
   "version": "3.10.14"
  },
  "papermill": {
   "default_parameters": {},
   "duration": 23.487348,
   "end_time": "2024-09-18T18:22:05.501360",
   "environment_variables": {},
   "exception": null,
   "input_path": "__notebook__.ipynb",
   "output_path": "__notebook__.ipynb",
   "parameters": {},
   "start_time": "2024-09-18T18:21:42.014012",
   "version": "2.6.0"
  }
 },
 "nbformat": 4,
 "nbformat_minor": 5
}
